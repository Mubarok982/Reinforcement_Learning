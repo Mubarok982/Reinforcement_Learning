{
  "nbformat": 4,
  "nbformat_minor": 0,
  "metadata": {
    "colab": {
      "provenance": [],
      "authorship_tag": "ABX9TyPBZeFqNBIvJPAStiQzDAHo",
      "include_colab_link": true
    },
    "kernelspec": {
      "name": "python3",
      "display_name": "Python 3"
    },
    "language_info": {
      "name": "python"
    }
  },
  "cells": [
    {
      "cell_type": "markdown",
      "metadata": {
        "id": "view-in-github",
        "colab_type": "text"
      },
      "source": [
        "<a href=\"https://colab.research.google.com/github/Mubarok982/Reinforcement_Learning/blob/main/Latihan_RL.ipynb\" target=\"_parent\"><img src=\"https://colab.research.google.com/assets/colab-badge.svg\" alt=\"Open In Colab\"/></a>"
      ]
    },
    {
      "cell_type": "code",
      "execution_count": 1,
      "metadata": {
        "colab": {
          "base_uri": "https://localhost:8080/"
        },
        "id": "vCCfxq1nU0Y0",
        "outputId": "3549b1b0-6691-436e-a763-fca10272b5ff"
      },
      "outputs": [
        {
          "output_type": "stream",
          "name": "stdout",
          "text": [
            "\u001b[2K     \u001b[90m━━━━━━━━━━━━━━━━━━━━━━━━━━━━━━━━━━━━━━━━\u001b[0m \u001b[32m1.6/1.6 MB\u001b[0m \u001b[31m4.4 MB/s\u001b[0m eta \u001b[36m0:00:00\u001b[0m\n",
            "\u001b[?25h  Preparing metadata (setup.py) ... \u001b[?25l\u001b[?25hdone\n",
            "\u001b[2K   \u001b[90m━━━━━━━━━━━━━━━━━━━━━━━━━━━━━━━━━━━━━━━━\u001b[0m \u001b[32m1.0/1.0 MB\u001b[0m \u001b[31m31.5 MB/s\u001b[0m eta \u001b[36m0:00:00\u001b[0m\n",
            "\u001b[?25h  Building wheel for gym (setup.py) ... \u001b[?25l\u001b[?25hdone\n",
            "\u001b[31mERROR: pip's dependency resolver does not currently take into account all the packages that are installed. This behaviour is the source of the following dependency conflicts.\n",
            "bigframes 2.13.0 requires cloudpickle>=2.0.0, but you have cloudpickle 1.6.0 which is incompatible.\n",
            "distributed 2025.5.0 requires cloudpickle>=3.0.0, but you have cloudpickle 1.6.0 which is incompatible.\n",
            "dask 2025.5.0 requires cloudpickle>=3.0.0, but you have cloudpickle 1.6.0 which is incompatible.\u001b[0m\u001b[31m\n",
            "\u001b[0m"
          ]
        }
      ],
      "source": [
        "!pip install gym==0.17.3 --quiet\n",
        "import numpy as np\n",
        "import gym\n",
        "import pickle"
      ]
    },
    {
      "cell_type": "code",
      "source": [
        "# Membuat daftar peta\n",
        "peta = [\n",
        "    ['SFFF','FHFH','FFFH','HFFG'],\n",
        "    ['SFFF','FFHF','HFFF','HFFG'],\n",
        "    ['SHFF','FHFH','FFFH','HHFG'],\n",
        "    ['SFFF','HHFF','FFFF','HFFG'],\n",
        "    ['SFFH','FFFH','HFFH','HHFG']\n",
        "]"
      ],
      "metadata": {
        "id": "vObKKeAIV5au"
      },
      "execution_count": 2,
      "outputs": []
    },
    {
      "cell_type": "code",
      "source": [
        "# Memuat lingkungan\n",
        "env = gym.make(\"FrozenLake-v0\",is_slippery=False, desc=peta[0])"
      ],
      "metadata": {
        "id": "oAsqzKEkV7sY"
      },
      "execution_count": 3,
      "outputs": []
    },
    {
      "cell_type": "code",
      "source": [
        "n_observations = env.observation_space.n\n",
        "n_actions      = env.action_space.n\n",
        "\n",
        "print('Banyak State  : ' + str(n_observations))\n",
        "print('Banyak Action : ' + str(n_actions))"
      ],
      "metadata": {
        "colab": {
          "base_uri": "https://localhost:8080/"
        },
        "id": "r00aF0D0V9au",
        "outputId": "ed40f4f0-ce23-4b3d-accc-d30f48445a6f"
      },
      "execution_count": 4,
      "outputs": [
        {
          "output_type": "stream",
          "name": "stdout",
          "text": [
            "Banyak State  : 16\n",
            "Banyak Action : 4\n"
          ]
        }
      ]
    },
    {
      "cell_type": "code",
      "source": [
        "ACTION = [\"KIRI\",\"BAWAH\",\"KANAN\",\"ATAS\"]"
      ],
      "metadata": {
        "id": "Z72rHQ7OWATI"
      },
      "execution_count": 5,
      "outputs": []
    },
    {
      "cell_type": "code",
      "source": [
        "env.reset()\n",
        "env.render()"
      ],
      "metadata": {
        "colab": {
          "base_uri": "https://localhost:8080/"
        },
        "id": "SOiyly57WB1C",
        "outputId": "944acd7d-85c7-4a1b-dc0a-07cdfe683fb7"
      },
      "execution_count": 6,
      "outputs": [
        {
          "output_type": "stream",
          "name": "stdout",
          "text": [
            "\n",
            "\u001b[41mS\u001b[0mFFF\n",
            "FHFH\n",
            "FFFH\n",
            "HFFG\n"
          ]
        }
      ]
    },
    {
      "cell_type": "code",
      "source": [
        "# Langkah 1 (ke Kanan)\n",
        "new_state, reward, done, info = env.step(2)\n",
        "\n",
        "# Menampilkan informasi\n",
        "print(f\"New State : {new_state}\")\n",
        "print(f\"Reward    : {reward}\")\n",
        "print(f\"Done      : {done}\")\n",
        "\n",
        "# Menampilkan visualisasi lingkungan\n",
        "env.render()"
      ],
      "metadata": {
        "colab": {
          "base_uri": "https://localhost:8080/"
        },
        "id": "spvKVF-EWEFw",
        "outputId": "48305eb8-d89b-4a02-fea1-d8efb7f3ef8c"
      },
      "execution_count": 7,
      "outputs": [
        {
          "output_type": "stream",
          "name": "stdout",
          "text": [
            "New State : 1\n",
            "Reward    : 0.0\n",
            "Done      : False\n",
            "  (Right)\n",
            "S\u001b[41mF\u001b[0mFF\n",
            "FHFH\n",
            "FFFH\n",
            "HFFG\n"
          ]
        }
      ]
    },
    {
      "cell_type": "code",
      "source": [
        "# Langkah 2 (ke Kanan)\n",
        "new_state, reward, done, info = env.step(2)\n",
        "\n",
        "# Menampilkan informasi\n",
        "print(f\"New State : {new_state}\")\n",
        "print(f\"Reward    : {reward}\")\n",
        "print(f\"Done      : {done}\")\n",
        "\n",
        "# Menampilkan visualisasi lingkungan\n",
        "env.render()"
      ],
      "metadata": {
        "colab": {
          "base_uri": "https://localhost:8080/"
        },
        "id": "ivbX5EmQWIDU",
        "outputId": "5dfd98ca-79b7-4497-d0d3-6ce367a52ac1"
      },
      "execution_count": 8,
      "outputs": [
        {
          "output_type": "stream",
          "name": "stdout",
          "text": [
            "New State : 2\n",
            "Reward    : 0.0\n",
            "Done      : False\n",
            "  (Right)\n",
            "SF\u001b[41mF\u001b[0mF\n",
            "FHFH\n",
            "FFFH\n",
            "HFFG\n"
          ]
        }
      ]
    },
    {
      "cell_type": "code",
      "source": [
        "# Langkah 3 (ke Bawah)\n",
        "new_state, reward, done, info = env.step(1)\n",
        "\n",
        "# Menampilkan informasi\n",
        "print('New State : {}'.format(new_state))\n",
        "print('Reward    : {}'.format(reward))\n",
        "print('Done      : {}'.format(done))\n",
        "\n",
        "# Menampilkan visualisasi lingkungan\n",
        "env.render()"
      ],
      "metadata": {
        "colab": {
          "base_uri": "https://localhost:8080/"
        },
        "id": "jt3FfYukWKTU",
        "outputId": "1f8d6cc5-1be9-4c6a-f4b4-7c388b3e2e2e"
      },
      "execution_count": 9,
      "outputs": [
        {
          "output_type": "stream",
          "name": "stdout",
          "text": [
            "New State : 6\n",
            "Reward    : 0.0\n",
            "Done      : False\n",
            "  (Down)\n",
            "SFFF\n",
            "FH\u001b[41mF\u001b[0mH\n",
            "FFFH\n",
            "HFFG\n"
          ]
        }
      ]
    },
    {
      "cell_type": "code",
      "source": [
        "# Langkah 4 (ke Bawah)\n",
        "new_state, reward, done, info = env.step(1)\n",
        "\n",
        "# Menampilkan informasi\n",
        "print('New State : {}'.format(new_state))\n",
        "print('Reward    : {}'.format(reward))\n",
        "print('Done      : {}'.format(done))\n",
        "\n",
        "# Menampilkan visualisasi lingkungan\n",
        "env.render()"
      ],
      "metadata": {
        "colab": {
          "base_uri": "https://localhost:8080/"
        },
        "id": "HU81aS9bWMfu",
        "outputId": "6e7cda9a-2cf2-4257-e146-70bee91d12fd"
      },
      "execution_count": 10,
      "outputs": [
        {
          "output_type": "stream",
          "name": "stdout",
          "text": [
            "New State : 10\n",
            "Reward    : 0.0\n",
            "Done      : False\n",
            "  (Down)\n",
            "SFFF\n",
            "FHFH\n",
            "FF\u001b[41mF\u001b[0mH\n",
            "HFFG\n"
          ]
        }
      ]
    },
    {
      "cell_type": "code",
      "source": [
        "# Langkah 5 (ke Bawah)\n",
        "new_state, reward, done, info = env.step(1)\n",
        "\n",
        "# Menampilkan informasi\n",
        "print(f\"New State : {new_state}\")\n",
        "print(f\"Reward    : {reward}\")\n",
        "print(f\"Done      : {done}\")\n",
        "\n",
        "# Menampilkan visualisasi lingkungan\n",
        "env.render()"
      ],
      "metadata": {
        "colab": {
          "base_uri": "https://localhost:8080/"
        },
        "id": "GtWeGcCiWObZ",
        "outputId": "47d669a4-6ea3-41cf-b9cf-7afc44e5df59"
      },
      "execution_count": 11,
      "outputs": [
        {
          "output_type": "stream",
          "name": "stdout",
          "text": [
            "New State : 14\n",
            "Reward    : 0.0\n",
            "Done      : False\n",
            "  (Down)\n",
            "SFFF\n",
            "FHFH\n",
            "FFFH\n",
            "HF\u001b[41mF\u001b[0mG\n"
          ]
        }
      ]
    },
    {
      "cell_type": "code",
      "source": [
        "# Langkah 6 (ke Kanan)\n",
        "new_state, reward, done, info = env.step(2)\n",
        "\n",
        "# Menampilkan informasi\n",
        "print(f\"New State : {new_state}\")\n",
        "print(f\"Reward    : {reward}\")\n",
        "print(f\"Done      : {done}\")\n",
        "\n",
        "# Menampilkan visualisasi lingkungan\n",
        "env.render()"
      ],
      "metadata": {
        "colab": {
          "base_uri": "https://localhost:8080/"
        },
        "id": "tg0QQ_PKWQu2",
        "outputId": "65b5a490-2c1a-4b16-f316-1c09a7ec45b9"
      },
      "execution_count": 12,
      "outputs": [
        {
          "output_type": "stream",
          "name": "stdout",
          "text": [
            "New State : 15\n",
            "Reward    : 1.0\n",
            "Done      : True\n",
            "  (Right)\n",
            "SFFF\n",
            "FHFH\n",
            "FFFH\n",
            "HFF\u001b[41mG\u001b[0m\n"
          ]
        }
      ]
    },
    {
      "cell_type": "code",
      "source": [
        "def train_agent(env, n_episodes=10000, max_iter_episode=100, exploration_proba=1, exploration_decreasing_decay=0.001, min_exploration_proba=0.01, gamma=0.99, lr=0.1):\n",
        "    Q_table = np.zeros((env.observation_space.n, env.action_space.n))\n",
        "\n",
        "    # List untuk menyimpan reward dari setiap episode\n",
        "    rewards_per_episode = []\n",
        "\n",
        "    # Loop melalui setiap episode\n",
        "    for episode in range(n_episodes):\n",
        "        state = env.reset()\n",
        "        episode_reward = 0\n",
        "\n",
        "        for _ in range(max_iter_episode):\n",
        "            if np.random.uniform(0, 1) < exploration_proba:\n",
        "                action = env.action_space.sample()\n",
        "            else:\n",
        "                action = np.argmax(Q_table[state, :])\n",
        "\n",
        "            # Ambil langkah berdasarkan tindakan yang dipilih\n",
        "            next_state, reward, done, _ = env.step(action)\n",
        "\n",
        "            Q_table[state, action] = (1 - lr) * Q_table[state, action] + lr * (reward + gamma * np.max(Q_table[next_state, :]))\n",
        "\n",
        "            episode_reward += reward\n",
        "            state = next_state\n",
        "            if done:\n",
        "                break\n",
        "\n",
        "        # Kurangi probabilitas eksplorasi seiring berjalannya waktu\n",
        "        exploration_proba = max(min_exploration_proba, np.exp(-exploration_decreasing_decay * episode))\n",
        "\n",
        "        rewards_per_episode.append(episode_reward)\n",
        "\n",
        "    # Cetak rata-rata reward per 1000 episode\n",
        "    print(\"Rata-Rata Reward per 1000 Episode\")\n",
        "    for i in range(10):\n",
        "        print((i + 1) * 1000, \" : Rata-Rata Reward: \", np.mean(rewards_per_episode[1000 * i:1000 * (i + 1)]))\n",
        "\n",
        "    # Kembalikan Q-table yang telah dilatih\n",
        "    return Q_table"
      ],
      "metadata": {
        "id": "8FSssIISWVau"
      },
      "execution_count": 13,
      "outputs": []
    },
    {
      "cell_type": "code",
      "source": [
        "Q_table_all = []\n",
        "for peta_env in peta:\n",
        "    env = gym.make(\"FrozenLake-v0\", is_slippery=False, desc=peta_env)\n",
        "    env.reset()\n",
        "\n",
        "    print('Peta : ')\n",
        "    print(peta_env)\n",
        "\n",
        "    # Melatih Agent pada lingkungan saat ini\n",
        "    Q_table = train_agent(env)\n",
        "\n",
        "    Q_table_all.append(Q_table)\n",
        "    print()"
      ],
      "metadata": {
        "colab": {
          "base_uri": "https://localhost:8080/"
        },
        "id": "Way17AQGWZXu",
        "outputId": "b1ca4369-76a2-42ac-bdd2-e229d269a573"
      },
      "execution_count": 14,
      "outputs": [
        {
          "output_type": "stream",
          "name": "stdout",
          "text": [
            "Peta : \n",
            "['SFFF', 'FHFH', 'FFFH', 'HFFG']\n",
            "Rata-Rata Reward per 1000 Episode\n",
            "1000  : Rata-Rata Reward:  0.264\n",
            "2000  : Rata-Rata Reward:  0.743\n",
            "3000  : Rata-Rata Reward:  0.919\n",
            "4000  : Rata-Rata Reward:  0.952\n",
            "5000  : Rata-Rata Reward:  0.986\n",
            "6000  : Rata-Rata Reward:  0.986\n",
            "7000  : Rata-Rata Reward:  0.994\n",
            "8000  : Rata-Rata Reward:  0.995\n",
            "9000  : Rata-Rata Reward:  0.991\n",
            "10000  : Rata-Rata Reward:  0.992\n",
            "\n",
            "Peta : \n",
            "['SFFF', 'FFHF', 'HFFF', 'HFFG']\n",
            "Rata-Rata Reward per 1000 Episode\n",
            "1000  : Rata-Rata Reward:  0.421\n",
            "2000  : Rata-Rata Reward:  0.811\n",
            "3000  : Rata-Rata Reward:  0.947\n",
            "4000  : Rata-Rata Reward:  0.984\n",
            "5000  : Rata-Rata Reward:  0.992\n",
            "6000  : Rata-Rata Reward:  0.995\n",
            "7000  : Rata-Rata Reward:  0.996\n",
            "8000  : Rata-Rata Reward:  0.991\n",
            "9000  : Rata-Rata Reward:  0.995\n",
            "10000  : Rata-Rata Reward:  0.993\n",
            "\n",
            "Peta : \n",
            "['SHFF', 'FHFH', 'FFFH', 'HHFG']\n",
            "Rata-Rata Reward per 1000 Episode\n",
            "1000  : Rata-Rata Reward:  0.0\n",
            "2000  : Rata-Rata Reward:  0.0\n",
            "3000  : Rata-Rata Reward:  0.0\n",
            "4000  : Rata-Rata Reward:  0.0\n",
            "5000  : Rata-Rata Reward:  0.0\n",
            "6000  : Rata-Rata Reward:  0.0\n",
            "7000  : Rata-Rata Reward:  0.0\n",
            "8000  : Rata-Rata Reward:  0.0\n",
            "9000  : Rata-Rata Reward:  0.0\n",
            "10000  : Rata-Rata Reward:  0.0\n",
            "\n",
            "Peta : \n",
            "['SFFF', 'HHFF', 'FFFF', 'HFFG']\n",
            "Rata-Rata Reward per 1000 Episode\n",
            "1000  : Rata-Rata Reward:  0.431\n",
            "2000  : Rata-Rata Reward:  0.843\n",
            "3000  : Rata-Rata Reward:  0.957\n",
            "4000  : Rata-Rata Reward:  0.985\n",
            "5000  : Rata-Rata Reward:  0.995\n",
            "6000  : Rata-Rata Reward:  0.997\n",
            "7000  : Rata-Rata Reward:  0.997\n",
            "8000  : Rata-Rata Reward:  0.991\n",
            "9000  : Rata-Rata Reward:  0.998\n",
            "10000  : Rata-Rata Reward:  0.993\n",
            "\n",
            "Peta : \n",
            "['SFFH', 'FFFH', 'HFFH', 'HHFG']\n",
            "Rata-Rata Reward per 1000 Episode\n",
            "1000  : Rata-Rata Reward:  0.31\n",
            "2000  : Rata-Rata Reward:  0.781\n",
            "3000  : Rata-Rata Reward:  0.933\n",
            "4000  : Rata-Rata Reward:  0.981\n",
            "5000  : Rata-Rata Reward:  0.992\n",
            "6000  : Rata-Rata Reward:  0.993\n",
            "7000  : Rata-Rata Reward:  0.984\n",
            "8000  : Rata-Rata Reward:  0.991\n",
            "9000  : Rata-Rata Reward:  0.992\n",
            "10000  : Rata-Rata Reward:  0.993\n",
            "\n"
          ]
        }
      ]
    },
    {
      "cell_type": "code",
      "source": [
        "index_peta = 0 # silakan pilih peta\n",
        "\n",
        "env = gym.make(\"FrozenLake-v0\",is_slippery=False, desc=peta[index_peta])\n",
        "env.reset()"
      ],
      "metadata": {
        "colab": {
          "base_uri": "https://localhost:8080/"
        },
        "id": "M4oKAbiBWcsS",
        "outputId": "e168fd9c-af3f-4954-82c5-3f10337ae498"
      },
      "execution_count": 15,
      "outputs": [
        {
          "output_type": "execute_result",
          "data": {
            "text/plain": [
              "0"
            ]
          },
          "metadata": {},
          "execution_count": 15
        }
      ]
    },
    {
      "cell_type": "code",
      "source": [
        "for langkah in range(1, 7):\n",
        "    if langkah == 1:\n",
        "        best_action = np.argmax(Q_table_all[index_peta][0])\n",
        "    else:\n",
        "        best_action = np.argmax(Q_table_all[index_peta][current_state])\n",
        "\n",
        "    new_state, reward, done, info = env.step(best_action)\n",
        "\n",
        "    # Cetak informasi langkah\n",
        "    print('--------------------------------------')\n",
        "    print('Langkah ke  :', langkah)\n",
        "    print('Best Action :', ACTION[best_action])\n",
        "    print('New State   :', new_state)\n",
        "    print('Reward      :', reward)\n",
        "    print('Done        :', done)\n",
        "\n",
        "    # Tampilkan visualisasi lingkungan\n",
        "    env.render()\n",
        "    current_state = new_state\n",
        "\n",
        "    print()"
      ],
      "metadata": {
        "colab": {
          "base_uri": "https://localhost:8080/"
        },
        "id": "msoQoanpWetM",
        "outputId": "3296d28b-63ec-4559-90de-666ddcdf0f24"
      },
      "execution_count": 16,
      "outputs": [
        {
          "output_type": "stream",
          "name": "stdout",
          "text": [
            "--------------------------------------\n",
            "Langkah ke  : 1\n",
            "Best Action : BAWAH\n",
            "New State   : 4\n",
            "Reward      : 0.0\n",
            "Done        : False\n",
            "  (Down)\n",
            "SFFF\n",
            "\u001b[41mF\u001b[0mHFH\n",
            "FFFH\n",
            "HFFG\n",
            "\n",
            "--------------------------------------\n",
            "Langkah ke  : 2\n",
            "Best Action : BAWAH\n",
            "New State   : 8\n",
            "Reward      : 0.0\n",
            "Done        : False\n",
            "  (Down)\n",
            "SFFF\n",
            "FHFH\n",
            "\u001b[41mF\u001b[0mFFH\n",
            "HFFG\n",
            "\n",
            "--------------------------------------\n",
            "Langkah ke  : 3\n",
            "Best Action : KANAN\n",
            "New State   : 9\n",
            "Reward      : 0.0\n",
            "Done        : False\n",
            "  (Right)\n",
            "SFFF\n",
            "FHFH\n",
            "F\u001b[41mF\u001b[0mFH\n",
            "HFFG\n",
            "\n",
            "--------------------------------------\n",
            "Langkah ke  : 4\n",
            "Best Action : KANAN\n",
            "New State   : 10\n",
            "Reward      : 0.0\n",
            "Done        : False\n",
            "  (Right)\n",
            "SFFF\n",
            "FHFH\n",
            "FF\u001b[41mF\u001b[0mH\n",
            "HFFG\n",
            "\n",
            "--------------------------------------\n",
            "Langkah ke  : 5\n",
            "Best Action : BAWAH\n",
            "New State   : 14\n",
            "Reward      : 0.0\n",
            "Done        : False\n",
            "  (Down)\n",
            "SFFF\n",
            "FHFH\n",
            "FFFH\n",
            "HF\u001b[41mF\u001b[0mG\n",
            "\n",
            "--------------------------------------\n",
            "Langkah ke  : 6\n",
            "Best Action : KANAN\n",
            "New State   : 15\n",
            "Reward      : 1.0\n",
            "Done        : True\n",
            "  (Right)\n",
            "SFFF\n",
            "FHFH\n",
            "FFFH\n",
            "HFF\u001b[41mG\u001b[0m\n",
            "\n"
          ]
        }
      ]
    },
    {
      "cell_type": "code",
      "source": [
        "for peta_env in peta:\n",
        "    print(\"Peta   :\", peta_env)\n",
        "\n",
        "    env = gym.make(\"FrozenLake-v0\", is_slippery=False, desc=peta_env)\n",
        "    env.reset()\n",
        "\n",
        "    # Iterasi untuk agen melakukan langkah-langkah dalam lingkungan\n",
        "    for langkah in range(1, 7):\n",
        "        if langkah == 1:\n",
        "            best_action = np.argmax(Q_table_all[index_peta][0])\n",
        "        else:\n",
        "            best_action = np.argmax(Q_table_all[index_peta][current_state])\n",
        "\n",
        "        new_state, reward, done, info = env.step(best_action)\n",
        "\n",
        "        current_state = new_state\n",
        "\n",
        "    # Periksa apakah agen berhasil menyelesaikan permainan\n",
        "    if done:\n",
        "        print(\"Status : Agent dapat menyelesaikan peta ini\")\n",
        "    else:\n",
        "        print(\"Status : Agent tidak dapat menyelesaikan peta ini\")\n",
        "\n",
        "    print()"
      ],
      "metadata": {
        "colab": {
          "base_uri": "https://localhost:8080/"
        },
        "id": "LPV2CI3eWhsR",
        "outputId": "530dfb39-d189-4ab2-8693-8ab90bf88e62"
      },
      "execution_count": 17,
      "outputs": [
        {
          "output_type": "stream",
          "name": "stdout",
          "text": [
            "Peta   : ['SFFF', 'FHFH', 'FFFH', 'HFFG']\n",
            "Status : Agent dapat menyelesaikan peta ini\n",
            "\n",
            "Peta   : ['SFFF', 'FFHF', 'HFFF', 'HFFG']\n",
            "Status : Agent dapat menyelesaikan peta ini\n",
            "\n",
            "Peta   : ['SHFF', 'FHFH', 'FFFH', 'HHFG']\n",
            "Status : Agent dapat menyelesaikan peta ini\n",
            "\n",
            "Peta   : ['SFFF', 'HHFF', 'FFFF', 'HFFG']\n",
            "Status : Agent dapat menyelesaikan peta ini\n",
            "\n",
            "Peta   : ['SFFH', 'FFFH', 'HFFH', 'HHFG']\n",
            "Status : Agent dapat menyelesaikan peta ini\n",
            "\n"
          ]
        }
      ]
    },
    {
      "cell_type": "code",
      "source": [
        "# Simpan tabel Q yang telah dilatih menggunakan modul pickle\n",
        "pickle.dump(Q_table_all, open('Q_table_Frozen_Lake.model', 'wb'))\n"
      ],
      "metadata": {
        "colab": {
          "base_uri": "https://localhost:8080/"
        },
        "id": "1F5bhpKnWkoy",
        "outputId": "a47eee92-ba30-42a0-d7be-6dfaf2b1fa50"
      },
      "execution_count": 18,
      "outputs": [
        {
          "output_type": "stream",
          "name": "stdout",
          "text": [
            "Tabel Q untuk lingkungan Frozen Lake telah berhasil disimpan dalam file 'Q_table_Frozen_Lake.model'. Proses pelatihan agen dan penyimpanan tabel Q ini memungkinkan untuk digunakan kembali dalam pengujian atau aplikasi selanjutnya tanpa perlu melakukan pelatihan ulang.\n"
          ]
        }
      ]
    }
  ]
}